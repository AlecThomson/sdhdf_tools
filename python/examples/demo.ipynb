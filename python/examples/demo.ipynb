{
 "cells": [
  {
   "attachments": {},
   "cell_type": "markdown",
   "metadata": {},
   "source": [
    "# A demo of the pyINSPECTA package"
   ]
  },
  {
   "cell_type": "code",
   "execution_count": 2,
   "metadata": {},
   "outputs": [],
   "source": [
    "%matplotlib inline\n",
    "import matplotlib as mpl\n",
    "import matplotlib.pyplot as plt\n",
    "mpl.rcParams['figure.dpi'] = 150\n",
    "\n",
    "from pyINSPECTA import SDHDF"
   ]
  },
  {
   "attachments": {},
   "cell_type": "markdown",
   "metadata": {},
   "source": [
    "#### Let's load an SDHDF file - it is represented by an SDHDF class instance (set verbose=True to get all the metadata):"
   ]
  },
  {
   "cell_type": "code",
   "execution_count": 6,
   "metadata": {},
   "outputs": [
    {
     "name": "stderr",
     "output_type": "stream",
     "text": [
      "pyINSPECTA - WARNING: No object 'beam_0/band_SB0/metadata/cal_obs_params' found in file!\n",
      "                                                                            \n",
      "pyINSPECTA - WARNING: No object 'beam_0/band_SB1/metadata/cal_obs_params' found in file!\n",
      "                                                                            \n",
      "pyINSPECTA - WARNING: No object 'beam_0/band_SB10/metadata/cal_obs_params' found in file!\n",
      "                                                                            \n",
      "pyINSPECTA - WARNING: No object 'beam_0/band_SB11/metadata/cal_obs_params' found in file!\n",
      "                                                                            \n",
      "pyINSPECTA - WARNING: No object 'beam_0/band_SB12/metadata/cal_obs_params' found in file!\n",
      "                                                                            \n",
      "pyINSPECTA - WARNING: No object 'beam_0/band_SB13/metadata/cal_obs_params' found in file!\n",
      "                                                                            \n",
      "pyINSPECTA - WARNING: No object 'beam_0/band_SB14/metadata/cal_obs_params' found in file!\n",
      "                                                                            \n",
      "pyINSPECTA - WARNING: No object 'beam_0/band_SB15/metadata/cal_obs_params' found in file!\n",
      "                                                                            \n",
      "pyINSPECTA - WARNING: No object 'beam_0/band_SB16/metadata/cal_obs_params' found in file!\n",
      "                                                                            \n",
      "pyINSPECTA - WARNING: No object 'beam_0/band_SB17/metadata/cal_obs_params' found in file!\n",
      "                                                                            \n",
      "pyINSPECTA - WARNING: No object 'beam_0/band_SB18/metadata/cal_obs_params' found in file!\n",
      "                                                                            \n",
      "pyINSPECTA - WARNING: No object 'beam_0/band_SB19/metadata/cal_obs_params' found in file!\n",
      "                                                                            \n",
      "pyINSPECTA - WARNING: No object 'beam_0/band_SB2/metadata/cal_obs_params' found in file!\n",
      "                                                                            \n",
      "pyINSPECTA - WARNING: No object 'beam_0/band_SB20/metadata/cal_obs_params' found in file!\n",
      "                                                                            \n",
      "pyINSPECTA - WARNING: No object 'beam_0/band_SB21/metadata/cal_obs_params' found in file!\n",
      "                                                                            \n",
      "pyINSPECTA - WARNING: No object 'beam_0/band_SB22/metadata/cal_obs_params' found in file!\n",
      "                                                                            \n",
      "pyINSPECTA - WARNING: No object 'beam_0/band_SB23/metadata/cal_obs_params' found in file!\n",
      "                                                                            \n",
      "pyINSPECTA - WARNING: No object 'beam_0/band_SB24/metadata/cal_obs_params' found in file!\n",
      "                                                                            \n",
      "pyINSPECTA - WARNING: No object 'beam_0/band_SB25/metadata/cal_obs_params' found in file!\n",
      "                                                                            \n",
      "pyINSPECTA - WARNING: No object 'beam_0/band_SB3/metadata/cal_obs_params' found in file!\n",
      "                                                                            \n",
      "pyINSPECTA - WARNING: No object 'beam_0/band_SB4/metadata/cal_obs_params' found in file!\n",
      "                                                                            \n",
      "pyINSPECTA - WARNING: No object 'beam_0/band_SB5/metadata/cal_obs_params' found in file!\n",
      "                                                                            \n",
      "pyINSPECTA - WARNING: No object 'beam_0/band_SB6/metadata/cal_obs_params' found in file!\n",
      "                                                                            \n",
      "pyINSPECTA - WARNING: No object 'beam_0/band_SB7/metadata/cal_obs_params' found in file!\n",
      "                                                                            \n",
      "pyINSPECTA - WARNING: No object 'beam_0/band_SB8/metadata/cal_obs_params' found in file!\n",
      "                                                                            \n",
      "pyINSPECTA - WARNING: No object 'beam_0/band_SB9/metadata/cal_obs_params' found in file!\n",
      "                                                                            \n"
     ]
    },
    {
     "name": "stdout",
     "output_type": "stream",
     "text": [
      "\n",
      "SDHDF version: 2.0\n",
      "Loading SDHDF definition template: /opt/build/sdhdf_tools/python/pyINSPECTA/definitions/sdhdf_def_v2.0.json\n",
      "{\n",
      "    \"version\": \"2.0\",\n",
      "    \"beam\": {\n",
      "        \"attributes\": {\n",
      "            \"DESCRIPTION\": \"SDHDF group containing data products specific to the antenna beam\",\n",
      "            \"NAME\": \"beam\",\n",
      "            \"SDHDF_CLASS\": \"sdhdf_beam\"\n",
      "        },\n",
      "        \"metadata\": {\n",
      "            \"attributes\": {\n",
      "                \"DESCRIPTION\": \"SDHDF group containing observation metadata\",\n",
      "                \"NAME\": \"metadata\",\n",
      "                \"SDHDF_CLASS\": \"sdhdf_meta\"\n",
      "            },\n",
      "            \"band_params\": \"metadata/band_params\",\n",
      "            \"cal_band_params\": \"metadata/cal_band_params\"\n",
      "        },\n",
      "        \"band\": {\n",
      "            \"attributes\": {\n",
      "                \"DESCRIPTION\": \"SDHDF group containing data products specific to the frequency band\",\n",
      "                \"NAME\": \"band\",\n",
      "                \"SDHDF_CLASS\": \"sdhdf_band\"\n",
      "            },\n",
      "            \"astronomy\": {\n",
      "                \"data\": \"astronomy_data/data\",\n",
      "                \"weights\": \"astronomy_data/data_weights\",\n",
      "                \"flags\": \"astronomy_data/data_flags\",\n",
      "                \"frequency\": \"astronomy_data/frequency\"\n",
      "            },\n",
      "            \"calibrator\": {\n",
      "                \"cal_binned\": \"calibrator_data/cal32_data\",\n",
      "                \"cal_on\": \"calibrator_data/cal_data_on\",\n",
      "                \"cal_off\": \"calibrator_data/cal_data_off\",\n",
      "                \"weights\": \"calibrator_data/cal_data_weights\",\n",
      "                \"flags\": \"calibrator_data/cal_data_flags\",\n",
      "                \"frequency\": \"calibrator_data/cal_frequency\"\n",
      "            },\n",
      "            \"metadata\": {\n",
      "                \"attributes\": {\n",
      "                    \"DESCRIPTION\": \"SDHDF group containing observation metadata\",\n",
      "                    \"NAME\": \"metadata\",\n",
      "                    \"SDHDF_CLASS\": \"sdhdf_meta\"\n",
      "                },\n",
      "                \"obs_params\": \"metadata/obs_params\",\n",
      "                \"cal_obs_params\": \"metadata/cal_obs_params\"\n",
      "            }\n",
      "        }\n",
      "    },\n",
      "    \"config\": {\n",
      "        \"attributes\": {\n",
      "            \"DESCRIPTION\": \"SDHDF group containing configuration parameters as defined at the time of the observation\",\n",
      "            \"NAME\": \"config\",\n",
      "            \"SDHDF_CLASS\": \"sdhdf_config\"\n",
      "        },\n",
      "        \"backend\": \"config/backend_config\",\n",
      "        \"cal_backend\": \"config/cal_backend_config\"\n",
      "    },\n",
      "    \"metadata\": {\n",
      "        \"attributes\": {\n",
      "            \"DESCRIPTION\": \"SDHDF group containing observation metadata\",\n",
      "            \"NAME\": \"metadata\",\n",
      "            \"SDHDF_CLASS\": \"sdhdf_meta\"\n",
      "        },\n",
      "        \"beam_params\": \"metadata/beam_params\",\n",
      "        \"history\": \"metadata/history\",\n",
      "        \"primary_header\": \"metadata/primary_header\",\n",
      "        \"software\": \"metadata/software_versions\"\n",
      "    }\n",
      "}\n",
      "\n",
      "> Found SDHDF group 'beam_0'...\n",
      ">> Loading metadata for beam 'beam_0'...\n",
      ">>> Loading metadata for beam 'beam_0' band 'band_SB0'...\n",
      ">>> Loading metadata for beam 'beam_0' band 'band_SB1'...\n",
      ">>> Loading metadata for beam 'beam_0' band 'band_SB10'...\n",
      ">>> Loading metadata for beam 'beam_0' band 'band_SB11'...\n",
      ">>> Loading metadata for beam 'beam_0' band 'band_SB12'...\n",
      ">>> Loading metadata for beam 'beam_0' band 'band_SB13'...\n",
      ">>> Loading metadata for beam 'beam_0' band 'band_SB14'...\n",
      ">>> Loading metadata for beam 'beam_0' band 'band_SB15'...\n",
      ">>> Loading metadata for beam 'beam_0' band 'band_SB16'...\n",
      ">>> Loading metadata for beam 'beam_0' band 'band_SB17'...\n",
      ">>> Loading metadata for beam 'beam_0' band 'band_SB18'...\n",
      ">>> Loading metadata for beam 'beam_0' band 'band_SB19'...\n",
      ">>> Loading metadata for beam 'beam_0' band 'band_SB2'...\n",
      ">>> Loading metadata for beam 'beam_0' band 'band_SB20'...\n",
      ">>> Loading metadata for beam 'beam_0' band 'band_SB21'...\n",
      ">>> Loading metadata for beam 'beam_0' band 'band_SB22'...\n",
      ">>> Loading metadata for beam 'beam_0' band 'band_SB23'...\n",
      ">>> Loading metadata for beam 'beam_0' band 'band_SB24'...\n",
      ">>> Loading metadata for beam 'beam_0' band 'band_SB25'...\n",
      ">>> Loading metadata for beam 'beam_0' band 'band_SB3'...\n",
      ">>> Loading metadata for beam 'beam_0' band 'band_SB4'...\n",
      ">>> Loading metadata for beam 'beam_0' band 'band_SB5'...\n",
      ">>> Loading metadata for beam 'beam_0' band 'band_SB6'...\n",
      ">>> Loading metadata for beam 'beam_0' band 'band_SB7'...\n",
      ">>> Loading metadata for beam 'beam_0' band 'band_SB8'...\n",
      ">>> Loading metadata for beam 'beam_0' band 'band_SB9'...\n",
      "\n",
      "> Found SDHDF group 'config'...\n",
      ">> Loading metadata for 'config'...\n"
     ]
    },
    {
     "name": "stderr",
     "output_type": "stream",
     "text": [
      "pyINSPECTA - WARNING: No object 'config/cal_backend_config' found in file!\n",
      "                                        \n",
      "pyINSPECTA - WARNING: \n",
      "                    No flags found for sub-band 'band_SB0' in file '/Users/too043/DATA/SDHDF_output/v1.9_tests/uwl_200406_121917.hdf'!\n",
      "                    SDHDF version is 2.0.\n",
      "                    Flags will be set to all zeros.\n",
      "                    \n",
      "pyINSPECTA - WARNING: \n",
      "                    No flags found for sub-band 'band_SB1' in file '/Users/too043/DATA/SDHDF_output/v1.9_tests/uwl_200406_121917.hdf'!\n",
      "                    SDHDF version is 2.0.\n",
      "                    Flags will be set to all zeros.\n",
      "                    \n",
      "pyINSPECTA - WARNING: \n",
      "                    No flags found for sub-band 'band_SB2' in file '/Users/too043/DATA/SDHDF_output/v1.9_tests/uwl_200406_121917.hdf'!\n",
      "                    SDHDF version is 2.0.\n",
      "                    Flags will be set to all zeros.\n",
      "                    \n",
      "pyINSPECTA - WARNING: \n",
      "                    No flags found for sub-band 'band_SB3' in file '/Users/too043/DATA/SDHDF_output/v1.9_tests/uwl_200406_121917.hdf'!\n",
      "                    SDHDF version is 2.0.\n",
      "                    Flags will be set to all zeros.\n",
      "                    \n",
      "pyINSPECTA - WARNING: \n",
      "                    No flags found for sub-band 'band_SB4' in file '/Users/too043/DATA/SDHDF_output/v1.9_tests/uwl_200406_121917.hdf'!\n",
      "                    SDHDF version is 2.0.\n",
      "                    Flags will be set to all zeros.\n",
      "                    \n",
      "pyINSPECTA - WARNING: \n",
      "                    No flags found for sub-band 'band_SB5' in file '/Users/too043/DATA/SDHDF_output/v1.9_tests/uwl_200406_121917.hdf'!\n",
      "                    SDHDF version is 2.0.\n",
      "                    Flags will be set to all zeros.\n",
      "                    \n",
      "pyINSPECTA - WARNING: \n",
      "                    No flags found for sub-band 'band_SB6' in file '/Users/too043/DATA/SDHDF_output/v1.9_tests/uwl_200406_121917.hdf'!\n",
      "                    SDHDF version is 2.0.\n",
      "                    Flags will be set to all zeros.\n",
      "                    \n",
      "pyINSPECTA - WARNING: \n",
      "                    No flags found for sub-band 'band_SB7' in file '/Users/too043/DATA/SDHDF_output/v1.9_tests/uwl_200406_121917.hdf'!\n",
      "                    SDHDF version is 2.0.\n",
      "                    Flags will be set to all zeros.\n",
      "                    \n",
      "pyINSPECTA - WARNING: \n",
      "                    No flags found for sub-band 'band_SB8' in file '/Users/too043/DATA/SDHDF_output/v1.9_tests/uwl_200406_121917.hdf'!\n",
      "                    SDHDF version is 2.0.\n",
      "                    Flags will be set to all zeros.\n",
      "                    \n",
      "pyINSPECTA - WARNING: \n",
      "                    No flags found for sub-band 'band_SB9' in file '/Users/too043/DATA/SDHDF_output/v1.9_tests/uwl_200406_121917.hdf'!\n",
      "                    SDHDF version is 2.0.\n",
      "                    Flags will be set to all zeros.\n",
      "                    \n",
      "pyINSPECTA - WARNING: \n",
      "                    No flags found for sub-band 'band_SB10' in file '/Users/too043/DATA/SDHDF_output/v1.9_tests/uwl_200406_121917.hdf'!\n",
      "                    SDHDF version is 2.0.\n",
      "                    Flags will be set to all zeros.\n",
      "                    \n",
      "pyINSPECTA - WARNING: \n",
      "                    No flags found for sub-band 'band_SB11' in file '/Users/too043/DATA/SDHDF_output/v1.9_tests/uwl_200406_121917.hdf'!\n",
      "                    SDHDF version is 2.0.\n",
      "                    Flags will be set to all zeros.\n",
      "                    \n",
      "pyINSPECTA - WARNING: \n",
      "                    No flags found for sub-band 'band_SB12' in file '/Users/too043/DATA/SDHDF_output/v1.9_tests/uwl_200406_121917.hdf'!\n",
      "                    SDHDF version is 2.0.\n",
      "                    Flags will be set to all zeros.\n",
      "                    \n",
      "pyINSPECTA - WARNING: \n",
      "                    No flags found for sub-band 'band_SB13' in file '/Users/too043/DATA/SDHDF_output/v1.9_tests/uwl_200406_121917.hdf'!\n",
      "                    SDHDF version is 2.0.\n",
      "                    Flags will be set to all zeros.\n",
      "                    \n",
      "pyINSPECTA - WARNING: \n",
      "                    No flags found for sub-band 'band_SB14' in file '/Users/too043/DATA/SDHDF_output/v1.9_tests/uwl_200406_121917.hdf'!\n",
      "                    SDHDF version is 2.0.\n",
      "                    Flags will be set to all zeros.\n",
      "                    \n",
      "pyINSPECTA - WARNING: \n",
      "                    No flags found for sub-band 'band_SB15' in file '/Users/too043/DATA/SDHDF_output/v1.9_tests/uwl_200406_121917.hdf'!\n",
      "                    SDHDF version is 2.0.\n",
      "                    Flags will be set to all zeros.\n",
      "                    \n",
      "pyINSPECTA - WARNING: \n",
      "                    No flags found for sub-band 'band_SB16' in file '/Users/too043/DATA/SDHDF_output/v1.9_tests/uwl_200406_121917.hdf'!\n",
      "                    SDHDF version is 2.0.\n",
      "                    Flags will be set to all zeros.\n",
      "                    \n",
      "pyINSPECTA - WARNING: \n",
      "                    No flags found for sub-band 'band_SB17' in file '/Users/too043/DATA/SDHDF_output/v1.9_tests/uwl_200406_121917.hdf'!\n",
      "                    SDHDF version is 2.0.\n",
      "                    Flags will be set to all zeros.\n",
      "                    \n",
      "pyINSPECTA - WARNING: \n",
      "                    No flags found for sub-band 'band_SB18' in file '/Users/too043/DATA/SDHDF_output/v1.9_tests/uwl_200406_121917.hdf'!\n",
      "                    SDHDF version is 2.0.\n",
      "                    Flags will be set to all zeros.\n",
      "                    \n"
     ]
    },
    {
     "name": "stdout",
     "output_type": "stream",
     "text": [
      "\n",
      "> Found SDHDF group 'metadata'...\n",
      ">> Loading metadata for 'metadata'...\n"
     ]
    },
    {
     "name": "stderr",
     "output_type": "stream",
     "text": [
      "pyINSPECTA - WARNING: \n",
      "                    No flags found for sub-band 'band_SB19' in file '/Users/too043/DATA/SDHDF_output/v1.9_tests/uwl_200406_121917.hdf'!\n",
      "                    SDHDF version is 2.0.\n",
      "                    Flags will be set to all zeros.\n",
      "                    \n",
      "pyINSPECTA - WARNING: \n",
      "                    No flags found for sub-band 'band_SB20' in file '/Users/too043/DATA/SDHDF_output/v1.9_tests/uwl_200406_121917.hdf'!\n",
      "                    SDHDF version is 2.0.\n",
      "                    Flags will be set to all zeros.\n",
      "                    \n",
      "pyINSPECTA - WARNING: \n",
      "                    No flags found for sub-band 'band_SB21' in file '/Users/too043/DATA/SDHDF_output/v1.9_tests/uwl_200406_121917.hdf'!\n",
      "                    SDHDF version is 2.0.\n",
      "                    Flags will be set to all zeros.\n",
      "                    \n",
      "pyINSPECTA - WARNING: \n",
      "                    No flags found for sub-band 'band_SB22' in file '/Users/too043/DATA/SDHDF_output/v1.9_tests/uwl_200406_121917.hdf'!\n",
      "                    SDHDF version is 2.0.\n",
      "                    Flags will be set to all zeros.\n",
      "                    \n",
      "pyINSPECTA - WARNING: \n",
      "                    No flags found for sub-band 'band_SB23' in file '/Users/too043/DATA/SDHDF_output/v1.9_tests/uwl_200406_121917.hdf'!\n",
      "                    SDHDF version is 2.0.\n",
      "                    Flags will be set to all zeros.\n",
      "                    \n",
      "pyINSPECTA - WARNING: \n",
      "                    No flags found for sub-band 'band_SB24' in file '/Users/too043/DATA/SDHDF_output/v1.9_tests/uwl_200406_121917.hdf'!\n",
      "                    SDHDF version is 2.0.\n",
      "                    Flags will be set to all zeros.\n",
      "                    \n",
      "pyINSPECTA - WARNING: \n",
      "                    No flags found for sub-band 'band_SB25' in file '/Users/too043/DATA/SDHDF_output/v1.9_tests/uwl_200406_121917.hdf'!\n",
      "                    SDHDF version is 2.0.\n",
      "                    Flags will be set to all zeros.\n",
      "                    \n"
     ]
    }
   ],
   "source": [
    "f = SDHDF(\"/Users/too043/DATA/SDHDF_output/v1.9_tests/uwl_200406_121917.hdf\", verbose=False)"
   ]
  },
  {
   "attachments": {},
   "cell_type": "markdown",
   "metadata": {},
   "source": [
    "#### The SDHDF class contains data on the beams and metadata:"
   ]
  },
  {
   "cell_type": "code",
   "execution_count": null,
   "metadata": {},
   "outputs": [],
   "source": [
    "print(f.beams)"
   ]
  },
  {
   "cell_type": "code",
   "execution_count": null,
   "metadata": {},
   "outputs": [],
   "source": [
    "print(f.metadata)"
   ]
  },
  {
   "cell_type": "markdown",
   "metadata": {},
   "source": [
    "#### Let's explore the observation metadata...."
   ]
  },
  {
   "cell_type": "code",
   "execution_count": null,
   "metadata": {},
   "outputs": [],
   "source": [
    "f.print_obs_metadata(format=\"fancy_outline\")"
   ]
  },
  {
   "cell_type": "markdown",
   "metadata": {},
   "source": [
    "#### Now the observation configuration...."
   ]
  },
  {
   "cell_type": "code",
   "execution_count": null,
   "metadata": {},
   "outputs": [],
   "source": [
    "f.print_obs_config(format=\"fancy_outline\")"
   ]
  },
  {
   "cell_type": "markdown",
   "metadata": {},
   "source": [
    "#### We can access the observation parameters with..."
   ]
  },
  {
   "cell_type": "code",
   "execution_count": null,
   "metadata": {},
   "outputs": [],
   "source": [
    "f.metadata.obs_params"
   ]
  },
  {
   "cell_type": "markdown",
   "metadata": {},
   "source": [
    "#### ...where the HDF attributes can be accessed with: "
   ]
  },
  {
   "cell_type": "code",
   "execution_count": null,
   "metadata": {},
   "outputs": [],
   "source": [
    "f.metadata.obs_params.attrs"
   ]
  },
  {
   "attachments": {},
   "cell_type": "markdown",
   "metadata": {},
   "source": [
    "#### The beam data can be accessed from the beam name (or beams list):"
   ]
  },
  {
   "cell_type": "code",
   "execution_count": null,
   "metadata": {},
   "outputs": [],
   "source": [
    "print(f.beam_0)\n",
    "# or\n",
    "# print(f.beams[0])"
   ]
  },
  {
   "attachments": {},
   "cell_type": "markdown",
   "metadata": {},
   "source": [
    "#### The Beam class contains the subband data - these can be accessed in a similar way to the beams:"
   ]
  },
  {
   "cell_type": "code",
   "execution_count": null,
   "metadata": {},
   "outputs": [],
   "source": [
    "print(f.beam_0.band_SB0)\n",
    "# or\n",
    "# print(f.beam_0.subbands[0])"
   ]
  },
  {
   "attachments": {},
   "cell_type": "markdown",
   "metadata": {},
   "source": [
    "#### At the bottom level, the data itself is held as either an `xarray.Dataset` or `pandas.DataFrame` depending on the data type:"
   ]
  },
  {
   "cell_type": "code",
   "execution_count": null,
   "metadata": {},
   "outputs": [],
   "source": [
    "f.beam_0.band_SB0.astronomy_dataset"
   ]
  },
  {
   "cell_type": "code",
   "execution_count": null,
   "metadata": {},
   "outputs": [],
   "source": [
    "f.beam_0.band_SB0.astronomy_dataset.metadata"
   ]
  },
  {
   "attachments": {},
   "cell_type": "markdown",
   "metadata": {},
   "source": [
    "#### For example, using the `xarray.DataArray` we have a lot of power to visualise and manipulate the data - see the [xarray documentation](https://docs.xarray.dev/en/stable/user-guide/data-structures.html) for more information.\n",
    "\n",
    "#### I've also implemented some commonly-used commands on methods inside the dataclasses. For example, we can make a waterfall plot, plot a spectrum, and inspect the metadata. This is all done with `xarray` or `pandas` under the hood - so much more complex investigations are possible using those tools."
   ]
  },
  {
   "attachments": {},
   "cell_type": "markdown",
   "metadata": {},
   "source": [
    "#### Here's a waterfall plot, which can be called from the `SDHDF` and `Beam` classes, but is really calling the base method on the `Subband` class:"
   ]
  },
  {
   "cell_type": "code",
   "execution_count": null,
   "metadata": {},
   "outputs": [],
   "source": [
    "f.plot_waterfall(beam=0, subband=0, polarization=0, flag=True, norm=plt.cm.colors.LogNorm(), y=\"ELAPSED_TIME\")"
   ]
  },
  {
   "attachments": {},
   "cell_type": "markdown",
   "metadata": {},
   "source": [
    "#### And a similar plot for the spectrum:"
   ]
  },
  {
   "cell_type": "code",
   "execution_count": null,
   "metadata": {},
   "outputs": [],
   "source": [
    "ax = f.plot_spectrum(beam=0, subband=2)\n",
    "ax.set_yscale(\"log\")"
   ]
  },
  {
   "attachments": {},
   "cell_type": "markdown",
   "metadata": {},
   "source": [
    "#### A wide-band plot can be called from the `SDHDF` object, but it also really just calling down to the `Beam` class:"
   ]
  },
  {
   "cell_type": "code",
   "execution_count": null,
   "metadata": {},
   "outputs": [],
   "source": [
    "ax = f.plot_wide(beam=0, polarization=0)\n",
    "ax.set_yscale(\"log\")"
   ]
  },
  {
   "attachments": {},
   "cell_type": "markdown",
   "metadata": {},
   "source": [
    "#### Writing the data out back to disk isn't possible, yet..."
   ]
  },
  {
   "cell_type": "code",
   "execution_count": null,
   "metadata": {},
   "outputs": [],
   "source": [
    "data.write(\"test.hdf5\")"
   ]
  },
  {
   "attachments": {},
   "cell_type": "markdown",
   "metadata": {},
   "source": [
    "#### RFI flagging routines have been implemented though:"
   ]
  },
  {
   "cell_type": "code",
   "execution_count": null,
   "metadata": {},
   "outputs": [],
   "source": [
    "f.auto_flag_rfi(sigma=3, n_windows=50)"
   ]
  },
  {
   "cell_type": "code",
   "execution_count": null,
   "metadata": {},
   "outputs": [],
   "source": [
    "ax = data.plot_wide(beam=0, polarization=0, flag=True)\n",
    "ax.set_yscale(\"log\")"
   ]
  },
  {
   "cell_type": "code",
   "execution_count": null,
   "metadata": {},
   "outputs": [],
   "source": [
    "ax = data.plot_waterfall(beam=0, subband=0, polarization=0, flag=True)"
   ]
  }
 ],
 "metadata": {
  "kernelspec": {
   "display_name": "Python 3 (ipykernel)",
   "language": "python",
   "name": "python3"
  },
  "language_info": {
   "codemirror_mode": {
    "name": "ipython",
    "version": 3
   },
   "file_extension": ".py",
   "mimetype": "text/x-python",
   "name": "python",
   "nbconvert_exporter": "python",
   "pygments_lexer": "ipython3",
   "version": "3.12.1"
  },
  "vscode": {
   "interpreter": {
    "hash": "20d809ec86e111c3d2864aa65d3db8e7fa384fc1384beda5cdcca85df830bf4c"
   }
  }
 },
 "nbformat": 4,
 "nbformat_minor": 4
}
