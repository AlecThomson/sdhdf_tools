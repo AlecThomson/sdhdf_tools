{
 "cells": [
  {
   "cell_type": "code",
   "execution_count": 1,
   "metadata": {},
   "outputs": [],
   "source": [
    "%matplotlib inline\n",
    "import matplotlib as mpl\n",
    "import matplotlib.pyplot as plt\n",
    "mpl.rcParams['figure.dpi'] = 150\n",
    "\n",
    "from pyINSPECTA import SDHDF\n",
    "from pyINSPECTA.tables import SDHDFTable\n",
    "from astropy.table import QTable\n",
    "import h5py\n",
    "import pandas as pd"
   ]
  },
  {
   "cell_type": "code",
   "execution_count": 2,
   "metadata": {},
   "outputs": [],
   "source": [
    "filename = \"/Users/tho822/data/parkes/uwl_200406_121917.extract.hdf\""
   ]
  },
  {
   "cell_type": "code",
   "execution_count": 3,
   "metadata": {},
   "outputs": [],
   "source": [
    "with h5py.File(filename) as f:\n",
    "    hist = f[\"metadata/history\"]\n",
    "    test = SDHDFTable(hist)\n"
   ]
  },
  {
   "cell_type": "code",
   "execution_count": null,
   "metadata": {},
   "outputs": [],
   "source": []
  },
  {
   "cell_type": "code",
   "execution_count": 4,
   "metadata": {},
   "outputs": [
    {
     "name": "stderr",
     "output_type": "stream",
     "text": [
      "pyINSPECTA - WARNING: \n",
      "                    No flags found for sub-band 'band_SB0' in file '/Users/tho822/data/parkes/uwl_200406_121917.extract.hdf'!\n",
      "                    SDHDF version is 1.9.\n",
      "                    Flags will be set to all zeros.\n",
      "                    \n"
     ]
    },
    {
     "ename": "AttributeError",
     "evalue": "'Series' object has no attribute 'value'",
     "output_type": "error",
     "traceback": [
      "\u001b[0;31m---------------------------------------------------------------------------\u001b[0m",
      "\u001b[0;31mAttributeError\u001b[0m                            Traceback (most recent call last)",
      "\u001b[1;32m/Users/tho822/dev/sdhdf_tools/python/pyINSPECTA/test.ipynb Cell 5\u001b[0m in \u001b[0;36m<cell line: 1>\u001b[0;34m()\u001b[0m\n\u001b[0;32m----> <a href='vscode-notebook-cell:/Users/tho822/dev/sdhdf_tools/python/pyINSPECTA/test.ipynb#W1sZmlsZQ%3D%3D?line=0'>1</a>\u001b[0m data \u001b[39m=\u001b[39m SDHDF(filename\u001b[39m=\u001b[39;49mfilename)\n\u001b[1;32m      <a href='vscode-notebook-cell:/Users/tho822/dev/sdhdf_tools/python/pyINSPECTA/test.ipynb#W1sZmlsZQ%3D%3D?line=1'>2</a>\u001b[0m \u001b[39mprint\u001b[39m(data)\n",
      "File \u001b[0;32m<string>:6\u001b[0m, in \u001b[0;36m__init__\u001b[0;34m(self, filename, in_memory, parallel)\u001b[0m\n",
      "File \u001b[0;32m~/dev/sdhdf_tools/python/pyINSPECTA/sdhdf.py:641\u001b[0m, in \u001b[0;36mSDHDF.__post_init__\u001b[0;34m(self)\u001b[0m\n\u001b[1;32m    639\u001b[0m \u001b[39mwith\u001b[39;00m h5py\u001b[39m.\u001b[39mFile(\u001b[39mself\u001b[39m\u001b[39m.\u001b[39mfilename, \u001b[39m\"\u001b[39m\u001b[39mr\u001b[39m\u001b[39m\"\u001b[39m) \u001b[39mas\u001b[39;00m f:\n\u001b[1;32m    640\u001b[0m     keys \u001b[39m=\u001b[39m \u001b[39mlist\u001b[39m(f\u001b[39m.\u001b[39mkeys())\n\u001b[0;32m--> 641\u001b[0m     \u001b[39mself\u001b[39m\u001b[39m.\u001b[39mbeams \u001b[39m=\u001b[39m [\n\u001b[1;32m    642\u001b[0m         Beam(\n\u001b[1;32m    643\u001b[0m             label\u001b[39m=\u001b[39mkey,\n\u001b[1;32m    644\u001b[0m             filename\u001b[39m=\u001b[39m\u001b[39mself\u001b[39m\u001b[39m.\u001b[39mfilename,\n\u001b[1;32m    645\u001b[0m             in_memory\u001b[39m=\u001b[39m\u001b[39mself\u001b[39m\u001b[39m.\u001b[39min_memory,\n\u001b[1;32m    646\u001b[0m             definition\u001b[39m=\u001b[39m\u001b[39mself\u001b[39m\u001b[39m.\u001b[39mdefinition,\n\u001b[1;32m    647\u001b[0m             client\u001b[39m=\u001b[39m\u001b[39mself\u001b[39m\u001b[39m.\u001b[39mclient,\n\u001b[1;32m    648\u001b[0m         )\n\u001b[1;32m    649\u001b[0m         \u001b[39mfor\u001b[39;00m key \u001b[39min\u001b[39;00m keys\n\u001b[1;32m    650\u001b[0m         \u001b[39mif\u001b[39;00m \u001b[39m\"\u001b[39m\u001b[39mbeam_\u001b[39m\u001b[39m\"\u001b[39m \u001b[39min\u001b[39;00m key\n\u001b[1;32m    651\u001b[0m     ]\n\u001b[1;32m    652\u001b[0m     \u001b[39mfor\u001b[39;00m beam \u001b[39min\u001b[39;00m \u001b[39mself\u001b[39m\u001b[39m.\u001b[39mbeams:\n\u001b[1;32m    653\u001b[0m         \u001b[39mself\u001b[39m\u001b[39m.\u001b[39m\u001b[39m__dict__\u001b[39m[beam\u001b[39m.\u001b[39mlabel] \u001b[39m=\u001b[39m beam\n",
      "File \u001b[0;32m~/dev/sdhdf_tools/python/pyINSPECTA/sdhdf.py:642\u001b[0m, in \u001b[0;36m<listcomp>\u001b[0;34m(.0)\u001b[0m\n\u001b[1;32m    639\u001b[0m \u001b[39mwith\u001b[39;00m h5py\u001b[39m.\u001b[39mFile(\u001b[39mself\u001b[39m\u001b[39m.\u001b[39mfilename, \u001b[39m\"\u001b[39m\u001b[39mr\u001b[39m\u001b[39m\"\u001b[39m) \u001b[39mas\u001b[39;00m f:\n\u001b[1;32m    640\u001b[0m     keys \u001b[39m=\u001b[39m \u001b[39mlist\u001b[39m(f\u001b[39m.\u001b[39mkeys())\n\u001b[1;32m    641\u001b[0m     \u001b[39mself\u001b[39m\u001b[39m.\u001b[39mbeams \u001b[39m=\u001b[39m [\n\u001b[0;32m--> 642\u001b[0m         Beam(\n\u001b[1;32m    643\u001b[0m             label\u001b[39m=\u001b[39;49mkey,\n\u001b[1;32m    644\u001b[0m             filename\u001b[39m=\u001b[39;49m\u001b[39mself\u001b[39;49m\u001b[39m.\u001b[39;49mfilename,\n\u001b[1;32m    645\u001b[0m             in_memory\u001b[39m=\u001b[39;49m\u001b[39mself\u001b[39;49m\u001b[39m.\u001b[39;49min_memory,\n\u001b[1;32m    646\u001b[0m             definition\u001b[39m=\u001b[39;49m\u001b[39mself\u001b[39;49m\u001b[39m.\u001b[39;49mdefinition,\n\u001b[1;32m    647\u001b[0m             client\u001b[39m=\u001b[39;49m\u001b[39mself\u001b[39;49m\u001b[39m.\u001b[39;49mclient,\n\u001b[1;32m    648\u001b[0m         )\n\u001b[1;32m    649\u001b[0m         \u001b[39mfor\u001b[39;00m key \u001b[39min\u001b[39;00m keys\n\u001b[1;32m    650\u001b[0m         \u001b[39mif\u001b[39;00m \u001b[39m\"\u001b[39m\u001b[39mbeam_\u001b[39m\u001b[39m\"\u001b[39m \u001b[39min\u001b[39;00m key\n\u001b[1;32m    651\u001b[0m     ]\n\u001b[1;32m    652\u001b[0m     \u001b[39mfor\u001b[39;00m beam \u001b[39min\u001b[39;00m \u001b[39mself\u001b[39m\u001b[39m.\u001b[39mbeams:\n\u001b[1;32m    653\u001b[0m         \u001b[39mself\u001b[39m\u001b[39m.\u001b[39m\u001b[39m__dict__\u001b[39m[beam\u001b[39m.\u001b[39mlabel] \u001b[39m=\u001b[39m beam\n",
      "File \u001b[0;32m<string>:8\u001b[0m, in \u001b[0;36m__init__\u001b[0;34m(self, label, filename, definition, in_memory, client)\u001b[0m\n",
      "File \u001b[0;32m~/dev/sdhdf_tools/python/pyINSPECTA/sdhdf.py:474\u001b[0m, in \u001b[0;36mBeam.__post_init__\u001b[0;34m(self)\u001b[0m\n\u001b[1;32m    472\u001b[0m \u001b[39mwith\u001b[39;00m h5py\u001b[39m.\u001b[39mFile(\u001b[39mself\u001b[39m\u001b[39m.\u001b[39mfilename, \u001b[39m\"\u001b[39m\u001b[39mr\u001b[39m\u001b[39m\"\u001b[39m) \u001b[39mas\u001b[39;00m f:\n\u001b[1;32m    473\u001b[0m     sb_avail \u001b[39m=\u001b[39m Table\u001b[39m.\u001b[39mread(f, path\u001b[39m=\u001b[39m\u001b[39mself\u001b[39m\u001b[39m.\u001b[39mlabel \u001b[39m+\u001b[39m \u001b[39m\"\u001b[39m\u001b[39m/metadata/band_params\u001b[39m\u001b[39m\"\u001b[39m)\n\u001b[0;32m--> 474\u001b[0m     \u001b[39mself\u001b[39m\u001b[39m.\u001b[39msubbands \u001b[39m=\u001b[39m [\n\u001b[1;32m    475\u001b[0m         SubBand(\n\u001b[1;32m    476\u001b[0m             label\u001b[39m=\u001b[39msb,\n\u001b[1;32m    477\u001b[0m             filename\u001b[39m=\u001b[39m\u001b[39mself\u001b[39m\u001b[39m.\u001b[39mfilename,\n\u001b[1;32m    478\u001b[0m             definition\u001b[39m=\u001b[39m\u001b[39mself\u001b[39m\u001b[39m.\u001b[39mdefinition,\n\u001b[1;32m    479\u001b[0m             beam_label\u001b[39m=\u001b[39m\u001b[39mself\u001b[39m\u001b[39m.\u001b[39mlabel,\n\u001b[1;32m    480\u001b[0m             in_memory\u001b[39m=\u001b[39m\u001b[39mself\u001b[39m\u001b[39m.\u001b[39min_memory,\n\u001b[1;32m    481\u001b[0m             client\u001b[39m=\u001b[39m\u001b[39mself\u001b[39m\u001b[39m.\u001b[39mclient,\n\u001b[1;32m    482\u001b[0m         )\n\u001b[1;32m    483\u001b[0m         \u001b[39mfor\u001b[39;00m sb \u001b[39min\u001b[39;00m sb_avail[\u001b[39m\"\u001b[39m\u001b[39mLABEL\u001b[39m\u001b[39m\"\u001b[39m]\n\u001b[1;32m    484\u001b[0m     ]\n\u001b[1;32m    485\u001b[0m     \u001b[39mfor\u001b[39;00m sb \u001b[39min\u001b[39;00m \u001b[39mself\u001b[39m\u001b[39m.\u001b[39msubbands:\n\u001b[1;32m    486\u001b[0m         \u001b[39mself\u001b[39m\u001b[39m.\u001b[39m\u001b[39m__dict__\u001b[39m[sb\u001b[39m.\u001b[39mlabel] \u001b[39m=\u001b[39m sb\n",
      "File \u001b[0;32m~/dev/sdhdf_tools/python/pyINSPECTA/sdhdf.py:475\u001b[0m, in \u001b[0;36m<listcomp>\u001b[0;34m(.0)\u001b[0m\n\u001b[1;32m    472\u001b[0m \u001b[39mwith\u001b[39;00m h5py\u001b[39m.\u001b[39mFile(\u001b[39mself\u001b[39m\u001b[39m.\u001b[39mfilename, \u001b[39m\"\u001b[39m\u001b[39mr\u001b[39m\u001b[39m\"\u001b[39m) \u001b[39mas\u001b[39;00m f:\n\u001b[1;32m    473\u001b[0m     sb_avail \u001b[39m=\u001b[39m Table\u001b[39m.\u001b[39mread(f, path\u001b[39m=\u001b[39m\u001b[39mself\u001b[39m\u001b[39m.\u001b[39mlabel \u001b[39m+\u001b[39m \u001b[39m\"\u001b[39m\u001b[39m/metadata/band_params\u001b[39m\u001b[39m\"\u001b[39m)\n\u001b[1;32m    474\u001b[0m     \u001b[39mself\u001b[39m\u001b[39m.\u001b[39msubbands \u001b[39m=\u001b[39m [\n\u001b[0;32m--> 475\u001b[0m         SubBand(\n\u001b[1;32m    476\u001b[0m             label\u001b[39m=\u001b[39;49msb,\n\u001b[1;32m    477\u001b[0m             filename\u001b[39m=\u001b[39;49m\u001b[39mself\u001b[39;49m\u001b[39m.\u001b[39;49mfilename,\n\u001b[1;32m    478\u001b[0m             definition\u001b[39m=\u001b[39;49m\u001b[39mself\u001b[39;49m\u001b[39m.\u001b[39;49mdefinition,\n\u001b[1;32m    479\u001b[0m             beam_label\u001b[39m=\u001b[39;49m\u001b[39mself\u001b[39;49m\u001b[39m.\u001b[39;49mlabel,\n\u001b[1;32m    480\u001b[0m             in_memory\u001b[39m=\u001b[39;49m\u001b[39mself\u001b[39;49m\u001b[39m.\u001b[39;49min_memory,\n\u001b[1;32m    481\u001b[0m             client\u001b[39m=\u001b[39;49m\u001b[39mself\u001b[39;49m\u001b[39m.\u001b[39;49mclient,\n\u001b[1;32m    482\u001b[0m         )\n\u001b[1;32m    483\u001b[0m         \u001b[39mfor\u001b[39;00m sb \u001b[39min\u001b[39;00m sb_avail[\u001b[39m\"\u001b[39m\u001b[39mLABEL\u001b[39m\u001b[39m\"\u001b[39m]\n\u001b[1;32m    484\u001b[0m     ]\n\u001b[1;32m    485\u001b[0m     \u001b[39mfor\u001b[39;00m sb \u001b[39min\u001b[39;00m \u001b[39mself\u001b[39m\u001b[39m.\u001b[39msubbands:\n\u001b[1;32m    486\u001b[0m         \u001b[39mself\u001b[39m\u001b[39m.\u001b[39m\u001b[39m__dict__\u001b[39m[sb\u001b[39m.\u001b[39mlabel] \u001b[39m=\u001b[39m sb\n",
      "File \u001b[0;32m<string>:9\u001b[0m, in \u001b[0;36m__init__\u001b[0;34m(self, label, filename, definition, beam_label, in_memory, client)\u001b[0m\n",
      "File \u001b[0;32m~/dev/sdhdf_tools/python/pyINSPECTA/sdhdf.py:149\u001b[0m, in \u001b[0;36mSubBand.__post_init__\u001b[0;34m(self)\u001b[0m\n\u001b[1;32m    147\u001b[0m \u001b[39mdef\u001b[39;00m \u001b[39m__post_init__\u001b[39m(\u001b[39mself\u001b[39m):\n\u001b[1;32m    148\u001b[0m     \u001b[39m# Get the astronomy data\u001b[39;00m\n\u001b[0;32m--> 149\u001b[0m     \u001b[39mself\u001b[39m\u001b[39m.\u001b[39mastronomy_dataset \u001b[39m=\u001b[39m \u001b[39mself\u001b[39;49m\u001b[39m.\u001b[39;49m_get_data()\n\u001b[1;32m    150\u001b[0m     \u001b[39m# Now get the calibrator data\u001b[39;00m\n\u001b[1;32m    151\u001b[0m     \u001b[39mself\u001b[39m\u001b[39m.\u001b[39mcalibrator_dataset \u001b[39m=\u001b[39m \u001b[39mself\u001b[39m\u001b[39m.\u001b[39m_get_cal()\n",
      "File \u001b[0;32m~/dev/sdhdf_tools/python/pyINSPECTA/sdhdf.py:206\u001b[0m, in \u001b[0;36mSubBand._get_data\u001b[0;34m(self)\u001b[0m\n\u001b[1;32m    203\u001b[0m     flags \u001b[39m=\u001b[39m np\u001b[39m.\u001b[39marray(flags)\n\u001b[1;32m    205\u001b[0m \u001b[39m# Process into xarray\u001b[39;00m\n\u001b[0;32m--> 206\u001b[0m coords \u001b[39m=\u001b[39m {col: (\u001b[39m\"\u001b[39m\u001b[39mtime\u001b[39m\u001b[39m\"\u001b[39m, meta[col]\u001b[39m.\u001b[39mvalue) \u001b[39mfor\u001b[39;00m col \u001b[39min\u001b[39;00m meta\u001b[39m.\u001b[39mtable\u001b[39m.\u001b[39mcolumns}\n\u001b[1;32m    207\u001b[0m coords[\u001b[39m\"\u001b[39m\u001b[39mfrequency\u001b[39m\u001b[39m\"\u001b[39m] \u001b[39m=\u001b[39m Variable(\n\u001b[1;32m    208\u001b[0m     dims\u001b[39m=\u001b[39m\u001b[39m\"\u001b[39m\u001b[39mfrequency\u001b[39m\u001b[39m\"\u001b[39m,\n\u001b[1;32m    209\u001b[0m     data\u001b[39m=\u001b[39mfreqs,\n\u001b[1;32m    210\u001b[0m     attrs\u001b[39m=\u001b[39m{\u001b[39m\"\u001b[39m\u001b[39munits\u001b[39m\u001b[39m\"\u001b[39m: h5[freq_path]\u001b[39m.\u001b[39mattrs[\u001b[39m\"\u001b[39m\u001b[39mUNIT\u001b[39m\u001b[39m\"\u001b[39m]},\n\u001b[1;32m    211\u001b[0m )\n\u001b[1;32m    212\u001b[0m dims \u001b[39m=\u001b[39m h5[data_path]\u001b[39m.\u001b[39mattrs[\u001b[39m\"\u001b[39m\u001b[39mDIMENSION_LABELS\u001b[39m\u001b[39m\"\u001b[39m]\n",
      "File \u001b[0;32m~/dev/sdhdf_tools/python/pyINSPECTA/sdhdf.py:206\u001b[0m, in \u001b[0;36m<dictcomp>\u001b[0;34m(.0)\u001b[0m\n\u001b[1;32m    203\u001b[0m     flags \u001b[39m=\u001b[39m np\u001b[39m.\u001b[39marray(flags)\n\u001b[1;32m    205\u001b[0m \u001b[39m# Process into xarray\u001b[39;00m\n\u001b[0;32m--> 206\u001b[0m coords \u001b[39m=\u001b[39m {col: (\u001b[39m\"\u001b[39m\u001b[39mtime\u001b[39m\u001b[39m\"\u001b[39m, meta[col]\u001b[39m.\u001b[39;49mvalue) \u001b[39mfor\u001b[39;00m col \u001b[39min\u001b[39;00m meta\u001b[39m.\u001b[39mtable\u001b[39m.\u001b[39mcolumns}\n\u001b[1;32m    207\u001b[0m coords[\u001b[39m\"\u001b[39m\u001b[39mfrequency\u001b[39m\u001b[39m\"\u001b[39m] \u001b[39m=\u001b[39m Variable(\n\u001b[1;32m    208\u001b[0m     dims\u001b[39m=\u001b[39m\u001b[39m\"\u001b[39m\u001b[39mfrequency\u001b[39m\u001b[39m\"\u001b[39m,\n\u001b[1;32m    209\u001b[0m     data\u001b[39m=\u001b[39mfreqs,\n\u001b[1;32m    210\u001b[0m     attrs\u001b[39m=\u001b[39m{\u001b[39m\"\u001b[39m\u001b[39munits\u001b[39m\u001b[39m\"\u001b[39m: h5[freq_path]\u001b[39m.\u001b[39mattrs[\u001b[39m\"\u001b[39m\u001b[39mUNIT\u001b[39m\u001b[39m\"\u001b[39m]},\n\u001b[1;32m    211\u001b[0m )\n\u001b[1;32m    212\u001b[0m dims \u001b[39m=\u001b[39m h5[data_path]\u001b[39m.\u001b[39mattrs[\u001b[39m\"\u001b[39m\u001b[39mDIMENSION_LABELS\u001b[39m\u001b[39m\"\u001b[39m]\n",
      "File \u001b[0;32m~/miniconda3/lib/python3.9/site-packages/pandas/core/generic.py:5575\u001b[0m, in \u001b[0;36mNDFrame.__getattr__\u001b[0;34m(self, name)\u001b[0m\n\u001b[1;32m   5568\u001b[0m \u001b[39mif\u001b[39;00m (\n\u001b[1;32m   5569\u001b[0m     name \u001b[39mnot\u001b[39;00m \u001b[39min\u001b[39;00m \u001b[39mself\u001b[39m\u001b[39m.\u001b[39m_internal_names_set\n\u001b[1;32m   5570\u001b[0m     \u001b[39mand\u001b[39;00m name \u001b[39mnot\u001b[39;00m \u001b[39min\u001b[39;00m \u001b[39mself\u001b[39m\u001b[39m.\u001b[39m_metadata\n\u001b[1;32m   5571\u001b[0m     \u001b[39mand\u001b[39;00m name \u001b[39mnot\u001b[39;00m \u001b[39min\u001b[39;00m \u001b[39mself\u001b[39m\u001b[39m.\u001b[39m_accessors\n\u001b[1;32m   5572\u001b[0m     \u001b[39mand\u001b[39;00m \u001b[39mself\u001b[39m\u001b[39m.\u001b[39m_info_axis\u001b[39m.\u001b[39m_can_hold_identifiers_and_holds_name(name)\n\u001b[1;32m   5573\u001b[0m ):\n\u001b[1;32m   5574\u001b[0m     \u001b[39mreturn\u001b[39;00m \u001b[39mself\u001b[39m[name]\n\u001b[0;32m-> 5575\u001b[0m \u001b[39mreturn\u001b[39;00m \u001b[39mobject\u001b[39;49m\u001b[39m.\u001b[39;49m\u001b[39m__getattribute__\u001b[39;49m(\u001b[39mself\u001b[39;49m, name)\n",
      "\u001b[0;31mAttributeError\u001b[0m: 'Series' object has no attribute 'value'"
     ]
    }
   ],
   "source": [
    "data = SDHDF(filename=filename)\n",
    "print(data)"
   ]
  },
  {
   "cell_type": "code",
   "execution_count": 4,
   "metadata": {},
   "outputs": [
    {
     "data": {
      "application/vnd.jupyter.widget-view+json": {
       "model_id": "c5326f79b4564fe4bf6d69791eb82668",
       "version_major": 2,
       "version_minor": 0
      },
      "text/plain": [
       "Flagging persistent RFI:   0%|          | 0/31 [00:00<?, ?it/s]"
      ]
     },
     "metadata": {},
     "output_type": "display_data"
    },
    {
     "ename": "TypeError",
     "evalue": "unhashable type: 'slice'",
     "output_type": "error",
     "traceback": [
      "\u001b[0;31m---------------------------------------------------------------------------\u001b[0m",
      "\u001b[0;31mTypeError\u001b[0m                                 Traceback (most recent call last)",
      "\u001b[1;32m/Users/tho822/dev/sdhdf_tools/python/pyINSPECTA/test.ipynb Cell 4\u001b[0m in \u001b[0;36m<cell line: 1>\u001b[0;34m()\u001b[0m\n\u001b[0;32m----> <a href='vscode-notebook-cell:/Users/tho822/dev/sdhdf_tools/python/pyINSPECTA/test.ipynb#W5sZmlsZQ%3D%3D?line=0'>1</a>\u001b[0m data\u001b[39m.\u001b[39;49mauto_flag_rfi()\n",
      "File \u001b[0;32m~/dev/sdhdf_tools/python/pyINSPECTA/sdhdf.py:761\u001b[0m, in \u001b[0;36mSDHDF.auto_flag_rfi\u001b[0;34m(self, sigma, n_windows)\u001b[0m\n\u001b[1;32m    755\u001b[0m \u001b[39mdef\u001b[39;00m \u001b[39mauto_flag_rfi\u001b[39m(\n\u001b[1;32m    756\u001b[0m     \u001b[39mself\u001b[39m,\n\u001b[1;32m    757\u001b[0m     sigma\u001b[39m=\u001b[39m\u001b[39m3\u001b[39m,\n\u001b[1;32m    758\u001b[0m     n_windows\u001b[39m=\u001b[39m\u001b[39m100\u001b[39m,\n\u001b[1;32m    759\u001b[0m ):\n\u001b[1;32m    760\u001b[0m     \u001b[39m\"\"\"Automatic flagging using rolling sigma clipping\"\"\"\u001b[39;00m\n\u001b[0;32m--> 761\u001b[0m     \u001b[39mself\u001b[39;49m\u001b[39m.\u001b[39;49mflag_persistent_rfi()\n\u001b[1;32m    762\u001b[0m     hists \u001b[39m=\u001b[39m []\n\u001b[1;32m    763\u001b[0m     \u001b[39mfor\u001b[39;00m beam \u001b[39min\u001b[39;00m tqdm(\u001b[39mself\u001b[39m\u001b[39m.\u001b[39mbeams, desc\u001b[39m=\u001b[39m\u001b[39m\"\u001b[39m\u001b[39mFlagging beams\u001b[39m\u001b[39m\"\u001b[39m):\n",
      "File \u001b[0;32m~/dev/sdhdf_tools/python/pyINSPECTA/sdhdf.py:752\u001b[0m, in \u001b[0;36mSDHDF.flag_persistent_rfi\u001b[0;34m(self)\u001b[0m\n\u001b[1;32m    748\u001b[0m         \u001b[39mfor\u001b[39;00m sb \u001b[39min\u001b[39;00m beam\u001b[39m.\u001b[39msubbands:\n\u001b[1;32m    749\u001b[0m             sb\u001b[39m.\u001b[39mastronomy_dataset\u001b[39m.\u001b[39mflag\u001b[39m.\u001b[39mloc[\n\u001b[1;32m    750\u001b[0m                 \u001b[39mdict\u001b[39m(frequency\u001b[39m=\u001b[39m\u001b[39mslice\u001b[39m(x[\u001b[39m\"\u001b[39m\u001b[39mfreq0 MHz\u001b[39m\u001b[39m\"\u001b[39m], x[\u001b[39m\"\u001b[39m\u001b[39mfreq1 MHz\u001b[39m\u001b[39m\"\u001b[39m]))\n\u001b[1;32m    751\u001b[0m             ] \u001b[39m=\u001b[39m \u001b[39m1\u001b[39m\n\u001b[0;32m--> 752\u001b[0m row \u001b[39m=\u001b[39m history\u001b[39m.\u001b[39;49mgenerate_history_row()\n\u001b[1;32m    753\u001b[0m \u001b[39mself\u001b[39m\u001b[39m.\u001b[39mmetadata\u001b[39m.\u001b[39mhistory \u001b[39m=\u001b[39m pd\u001b[39m.\u001b[39mconcat([\u001b[39mself\u001b[39m\u001b[39m.\u001b[39mmetadata\u001b[39m.\u001b[39mhistory, row])\n",
      "File \u001b[0;32m~/dev/sdhdf_tools/python/pyINSPECTA/history.py:39\u001b[0m, in \u001b[0;36mgenerate_history_row\u001b[0;34m()\u001b[0m\n\u001b[1;32m     36\u001b[0m \u001b[39m# Get the calling function's arguments\u001b[39;00m\n\u001b[1;32m     37\u001b[0m process_arguments \u001b[39m=\u001b[39m \u001b[39mstr\u001b[39m(inspect\u001b[39m.\u001b[39mstack()[\u001b[39m1\u001b[39m][\u001b[39m0\u001b[39m]\u001b[39m.\u001b[39mf_locals[\u001b[39m\"\u001b[39m\u001b[39mself\u001b[39m\u001b[39m\"\u001b[39m]\u001b[39m.\u001b[39m\u001b[39m__dict__\u001b[39m)\n\u001b[0;32m---> 39\u001b[0m history_row \u001b[39m=\u001b[39m SDHDFTable(\n\u001b[1;32m     40\u001b[0m     {\n\u001b[1;32m     41\u001b[0m         \u001b[39m\"\u001b[39;49m\u001b[39mDATE\u001b[39;49m\u001b[39m\"\u001b[39;49m: datetime\u001b[39m.\u001b[39;49mdatetime\u001b[39m.\u001b[39;49mnow()\u001b[39m.\u001b[39;49mstrftime(\u001b[39m\"\u001b[39;49m\u001b[39m%\u001b[39;49m\u001b[39mY-\u001b[39;49m\u001b[39m%\u001b[39;49m\u001b[39mm-\u001b[39;49m\u001b[39m%d\u001b[39;49;00m\u001b[39m-\u001b[39;49m\u001b[39m%\u001b[39;49m\u001b[39mH:\u001b[39;49m\u001b[39m%\u001b[39;49m\u001b[39mM:\u001b[39;49m\u001b[39m%\u001b[39;49m\u001b[39mS\u001b[39;49m\u001b[39m\"\u001b[39;49m),\n\u001b[1;32m     42\u001b[0m         \u001b[39m\"\u001b[39;49m\u001b[39mPROC\u001b[39;49m\u001b[39m\"\u001b[39;49m: process_name,\n\u001b[1;32m     43\u001b[0m         \u001b[39m\"\u001b[39;49m\u001b[39mPROC_DESCR\u001b[39;49m\u001b[39m\"\u001b[39;49m: process_description,\n\u001b[1;32m     44\u001b[0m         \u001b[39m\"\u001b[39;49m\u001b[39mPROC_ARGS\u001b[39;49m\u001b[39m\"\u001b[39;49m: process_arguments,\n\u001b[1;32m     45\u001b[0m         \u001b[39m\"\u001b[39;49m\u001b[39mPROC_HOST\u001b[39;49m\u001b[39m\"\u001b[39;49m: socket\u001b[39m.\u001b[39;49mgetfqdn(),\n\u001b[1;32m     46\u001b[0m     },\n\u001b[1;32m     47\u001b[0m     index\u001b[39m=\u001b[39;49m[\u001b[39m0\u001b[39;49m],\n\u001b[1;32m     48\u001b[0m )\n\u001b[1;32m     49\u001b[0m \u001b[39mreturn\u001b[39;00m history_row\n",
      "File \u001b[0;32m~/dev/sdhdf_tools/python/pyINSPECTA/tables.py:24\u001b[0m, in \u001b[0;36mSDHDFTable.__init__\u001b[0;34m(self, sdhdf_dataset, *args, **kwargs)\u001b[0m\n\u001b[1;32m     22\u001b[0m \u001b[39mif\u001b[39;00m \u001b[39mhasattr\u001b[39m(sdhdf_dataset, \u001b[39m'\u001b[39m\u001b[39mattrs\u001b[39m\u001b[39m'\u001b[39m):\n\u001b[1;32m     23\u001b[0m     \u001b[39mself\u001b[39m\u001b[39m.\u001b[39mattrs \u001b[39m=\u001b[39m \u001b[39mdict\u001b[39m(sdhdf_dataset\u001b[39m.\u001b[39mattrs)\n\u001b[0;32m---> 24\u001b[0m \u001b[39msuper\u001b[39m()\u001b[39m.\u001b[39m\u001b[39m__init__\u001b[39m(sdhdf_dataset[:], \u001b[39m*\u001b[39margs, \u001b[39m*\u001b[39m\u001b[39m*\u001b[39mkwargs)\n\u001b[1;32m     25\u001b[0m \u001b[39mself\u001b[39m\u001b[39m.\u001b[39m_apply_units()\n",
      "\u001b[0;31mTypeError\u001b[0m: unhashable type: 'slice'"
     ]
    }
   ],
   "source": [
    "data.auto_flag_rfi()"
   ]
  },
  {
   "cell_type": "code",
   "execution_count": null,
   "metadata": {},
   "outputs": [],
   "source": []
  }
 ],
 "metadata": {
  "kernelspec": {
   "display_name": "base",
   "language": "python",
   "name": "python3"
  },
  "language_info": {
   "codemirror_mode": {
    "name": "ipython",
    "version": 3
   },
   "file_extension": ".py",
   "mimetype": "text/x-python",
   "name": "python",
   "nbconvert_exporter": "python",
   "pygments_lexer": "ipython3",
   "version": "3.9.13 | packaged by conda-forge | (main, May 27 2022, 17:00:52) \n[Clang 13.0.1 ]"
  },
  "orig_nbformat": 4,
  "vscode": {
   "interpreter": {
    "hash": "20d809ec86e111c3d2864aa65d3db8e7fa384fc1384beda5cdcca85df830bf4c"
   }
  }
 },
 "nbformat": 4,
 "nbformat_minor": 2
}
