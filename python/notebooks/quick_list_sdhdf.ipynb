{
 "cells": [
  {
   "cell_type": "code",
   "execution_count": null,
   "metadata": {},
   "outputs": [],
   "source": [
    "import h5py\n",
    "import argparse\n",
    "import glob\n",
    "import os\n",
    "from astropy.table import QTable\n",
    "from tabulate import tabulate\n",
    "\n",
    "__version__ = '1.9'\n",
    "__author__ = 'Lawrence Toomey'\n",
    "\n",
    "\n",
    "def quick_list(dir):\n",
    "\trow_data = []\n",
    "\thdr = 'File', 'Project_ID', 'Beam', 'N_bands', 'Source'\n",
    "\n",
    "\tfor fpath in glob.glob(dir + '/*.hdf'):\n",
    "\t\ttry:\n",
    "\t\t\twith h5py.File(fpath, 'r') as h5:\n",
    "\t\t\t\tph = QTable.read(h5, path='/metadata/primary_header')\n",
    "\t\t\t\tbp = QTable.read(h5, path='/metadata/beam_params')\n",
    "\t\t\t\tf = os.path.basename(fpath)\n",
    "\t\t\t\tnbeams = len(bp)\n",
    "\t\t\t\tpid = ph['PID'][0]\n",
    "\n",
    "\t\t\t\tfor row in range(0, nbeams):\n",
    "\t\t\t\t\tbeam = bp['LABEL'][row]\n",
    "\t\t\t\t\tnbands = bp['N_BANDS'][row]\n",
    "\t\t\t\t\tsource = bp['SOURCE'][row]\n",
    "\t\t\t\t\trow = f, pid, beam, nbands, source\n",
    "\t\t\t\t\trow_data.append(row)\n",
    "\n",
    "\t\texcept Exception as e:\n",
    "\t\t\tprint('ERROR: failed to read file %s' % f, e)\n",
    "\n",
    "\tprint(tabulate(row_data, headers=hdr))"
   ]
  },
  {
   "cell_type": "code",
   "execution_count": null,
   "metadata": {},
   "outputs": [],
   "source": [
    "# add the path to your data directory here\n",
    "dirname = ''"
   ]
  },
  {
   "cell_type": "code",
   "execution_count": null,
   "metadata": {},
   "outputs": [],
   "source": [
    "quick_list(dirname)"
   ]
  }
 ],
 "metadata": {
  "kernelspec": {
   "display_name": "Python 3",
   "language": "python",
   "name": "python3"
  },
  "language_info": {
   "codemirror_mode": {
    "name": "ipython",
    "version": 3
   },
   "file_extension": ".py",
   "mimetype": "text/x-python",
   "name": "python",
   "nbconvert_exporter": "python",
   "pygments_lexer": "ipython3",
   "version": "3.7.3"
  }
 },
 "nbformat": 4,
 "nbformat_minor": 2
}
