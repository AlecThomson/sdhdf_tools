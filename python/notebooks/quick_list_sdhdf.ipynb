{
 "cells": [
  {
   "cell_type": "code",
   "execution_count": null,
   "metadata": {},
   "outputs": [],
   "source": [
    "import h5py\n",
    "import argparse\n",
    "import glob\n",
    "import os\n",
    "from astropy.table import QTable\n",
    "\n",
    "__version__ = '1.8'\n",
    "__author__ = 'Lawrence Toomey'\n",
    "\n",
    "\n",
    "def quick_list(dir):\n",
    "    for fpath in glob.glob(dir + '/*.hdf'):\n",
    "        try:\n",
    "            with h5py.File(fpath, 'r') as h5:\n",
    "                tb = QTable.read(h5, path='/primary_header')\n",
    "                f = os.path.basename(fpath)\n",
    "                pid = tb[0]['PID']\n",
    "                source = tb[0]['SOURCE']\n",
    "                print('File: %s ProjectID: %s Source: %s' % (f, pid, source))\n",
    "        except Exception as e:\n",
    "            print('ERROR: failed to read file %s' % f, e)\n"
   ]
  },
  {
   "cell_type": "code",
   "execution_count": null,
   "metadata": {},
   "outputs": [],
   "source": [
    "dirname = '../../test_data'"
   ]
  },
  {
   "cell_type": "code",
   "execution_count": null,
   "metadata": {},
   "outputs": [],
   "source": [
    "quick_list(dirname)"
   ]
  },
  {
   "cell_type": "code",
   "execution_count": null,
   "metadata": {},
   "outputs": [],
   "source": []
  }
 ],
 "metadata": {
  "kernelspec": {
   "display_name": "Python 3",
   "language": "python",
   "name": "python3"
  },
  "language_info": {
   "codemirror_mode": {
    "name": "ipython",
    "version": 3
   },
   "file_extension": ".py",
   "mimetype": "text/x-python",
   "name": "python",
   "nbconvert_exporter": "python",
   "pygments_lexer": "ipython3",
   "version": "3.7.3"
  }
 },
 "nbformat": 4,
 "nbformat_minor": 2
}
