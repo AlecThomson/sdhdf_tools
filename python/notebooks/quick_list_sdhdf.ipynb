{
 "cells": [
  {
   "cell_type": "code",
   "execution_count": 1,
   "metadata": {},
   "outputs": [],
   "source": [
    "import h5py\n",
    "import argparse\n",
    "import glob\n",
    "import os\n",
    "from astropy.table import QTable\n",
    "from tabulate import tabulate\n",
    "\n",
    "__version__ = '1.9'\n",
    "__author__ = 'Lawrence Toomey'\n",
    "\n",
    "\n",
    "def get_metadata(pth):\n",
    "\t\"\"\"\n",
    "\tRetrieve metadata from SDHDF dataset\n",
    "\n",
    "\t:param string pth: Path to SDHDF file to read\n",
    "\t:return: list row_d: Metadata as a list\n",
    "\t\"\"\"\n",
    "\trow_d = []\n",
    "\n",
    "\ttry:\n",
    "\t\twith h5py.File(pth, 'r') as h5:\n",
    "\t\t\tph = QTable.read(h5, path='/metadata/primary_header')\n",
    "\t\t\tbp = QTable.read(h5, path='/metadata/beam_params')\n",
    "\t\t\tf = os.path.basename(pth)\n",
    "\t\t\tnbeams = len(bp)\n",
    "\t\t\tpid = ph['PID'][0]\n",
    "\t\t\tutc_start = ph['UTC_START'][0]\n",
    "\t\t\tobs_type = ph['OBS_TYPE'][0]\n",
    "\t\t\thdr_defn_ver = ph['HDR_DEFN_VERSION'][0]\n",
    "\t\t\tsched_blk_id = ph['SCHED_BLOCK_ID'][0]\n",
    "\n",
    "\t\t\tfor beam in range(0, nbeams):\n",
    "\t\t\t\tbeam_id = bp['LABEL'][beam]\n",
    "\t\t\t\tsource = bp['SOURCE'][beam]\n",
    "\t\t\t\tnbands = bp['N_BANDS']\n",
    "\t\t\t\trow = f, hdr_defn_ver, sched_blk_id, pid, beam_id, source, \\\n",
    "\t\t\t\t\tobs_type, utc_start, nbands\n",
    "\t\t\t\trow_d.append(row)\n",
    "\n",
    "\texcept Exception as e:\n",
    "\t\tprint('ERROR: failed to read file %s' % f, e)\n",
    "\n",
    "\treturn row_d\n",
    "\n",
    "\n",
    "def quick_list(pth):\n",
    "\t\"\"\"\n",
    "\tFormat metadata from SDHDF file\n",
    "\t:param string pth: Path to SDHDF file to read\n",
    "\t:return: None\n",
    "\t\"\"\"\n",
    "\trow_data = []\n",
    "\thdr = 'File', 'SDHDF Version', 'Sched Block ID', 'Project ID', 'Beam', \\\n",
    "\t\t'Source', 'Obs Type', 'UTC start', 'No. bands'\n",
    "\n",
    "\tif os.path.isdir(pth):\n",
    "\t\tfor fpth in glob.glob(pth + '/*.hdf'):\n",
    "\t\t\trow = get_metadata(fpth)\n",
    "\t\t\trow_data += row\n",
    "\n",
    "\telse:\n",
    "\t\trow_data = get_metadata(pth)\n",
    "\n",
    "\tprint(tabulate(row_data, headers=hdr))"
   ]
  },
  {
   "cell_type": "code",
   "execution_count": 2,
   "metadata": {},
   "outputs": [],
   "source": [
    "# add the path to your data directory here\n",
    "dirname = ''"
   ]
  }
 ],
 "metadata": {
  "kernelspec": {
   "display_name": "Python 3",
   "language": "python",
   "name": "python3"
  },
  "language_info": {
   "codemirror_mode": {
    "name": "ipython",
    "version": 3
   },
   "file_extension": ".py",
   "mimetype": "text/x-python",
   "name": "python",
   "nbconvert_exporter": "python",
   "pygments_lexer": "ipython3",
   "version": "3.7.3"
  }
 },
 "nbformat": 4,
 "nbformat_minor": 2
}
