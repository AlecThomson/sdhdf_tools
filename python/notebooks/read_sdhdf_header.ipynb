{
 "cells": [
  {
   "cell_type": "code",
   "execution_count": 1,
   "metadata": {},
   "outputs": [],
   "source": [
    "import h5py\n",
    "import argparse\n",
    "import pandas as pd\n",
    "from astropy.table import QTable\n",
    "\n",
    "__version__ = '1.9'\n",
    "__author__ = 'Lawrence Toomey'\n",
    "\n",
    "\n",
    "def print_header(tb):\n",
    "    \"\"\"\n",
    "    Format SDHDF header metadata output\n",
    "\n",
    "    :param astropy.QTable tb: astropy.QTable metadata object\n",
    "    :return: None\n",
    "    \"\"\"\n",
    "    params = []\n",
    "    for col in tb.colnames:\n",
    "        params.append([col, tb[col][0]])\n",
    "    df = pd.DataFrame(params, columns=('-- Key --', '-- Value --'))\n",
    "    print(df)\n",
    "\n",
    "\n",
    "def read_sdhdf_header(f):\n",
    "    \"\"\"\n",
    "    Read SDHDF primary header metadata\n",
    "\n",
    "    :param string f: Path to SDHDF file\n",
    "    :return: None\n",
    "    \"\"\"\n",
    "    try:\n",
    "        with h5py.File(f, 'r') as h5:\n",
    "            tb = QTable.read(h5, path='/metadata/primary_header')\n",
    "            print('Displaying primary header for file:\\n%s\\n' % f)\n",
    "            print_header(tb)\n",
    "    except Exception as e:\n",
    "        print('ERROR: failed to read file %s' % f, e)"
   ]
  },
  {
   "cell_type": "code",
   "execution_count": 2,
   "metadata": {},
   "outputs": [],
   "source": [
    "# add the path to your filename here\n",
    "filename = ''"
   ]
  }
 ],
 "metadata": {
  "kernelspec": {
   "display_name": "Python 3",
   "language": "python",
   "name": "python3"
  },
  "language_info": {
   "codemirror_mode": {
    "name": "ipython",
    "version": 3
   },
   "file_extension": ".py",
   "mimetype": "text/x-python",
   "name": "python",
   "nbconvert_exporter": "python",
   "pygments_lexer": "ipython3",
   "version": "3.7.3"
  }
 },
 "nbformat": 4,
 "nbformat_minor": 2
}
