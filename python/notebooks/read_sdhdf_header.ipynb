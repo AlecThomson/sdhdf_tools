{
 "cells": [
  {
   "cell_type": "code",
   "execution_count": null,
   "metadata": {},
   "outputs": [],
   "source": [
    "import h5py\n",
    "import argparse\n",
    "import pandas as pd\n",
    "from astropy.table import QTable\n",
    "\n",
    "__version__ = '1.9'\n",
    "__author__ = 'Lawrence Toomey'\n",
    "\n",
    "\n",
    "def print_header(tb):\n",
    "    params = []\n",
    "    for col in tb.colnames:\n",
    "        params.append([col, tb[col][0]])\n",
    "    df = pd.DataFrame(params, columns=('-- Key --', '-- Value --'))\n",
    "    print(df)\n",
    "\n",
    "\n",
    "def read_sdhdf_header(f):\n",
    "    try:\n",
    "        with h5py.File(f, 'r') as h5:\n",
    "            tb = QTable.read(h5, path='/metadata/primary_header')\n",
    "            print('Displaying primary header for file:\\n%s\\n' % f)\n",
    "            print_header(tb)\n",
    "    except Exception as e:\n",
    "        print('ERROR: failed to read file %s' % f, e)\n"
   ]
  },
  {
   "cell_type": "code",
   "execution_count": null,
   "metadata": {},
   "outputs": [],
   "source": [
    "# add the path to your filename here\n",
    "filename = ''"
   ]
  },
  {
   "cell_type": "code",
   "execution_count": null,
   "metadata": {},
   "outputs": [],
   "source": [
    "read_sdhdf_header(filename)"
   ]
  }
 ],
 "metadata": {
  "kernelspec": {
   "display_name": "Python 3",
   "language": "python",
   "name": "python3"
  },
  "language_info": {
   "codemirror_mode": {
    "name": "ipython",
    "version": 3
   },
   "file_extension": ".py",
   "mimetype": "text/x-python",
   "name": "python",
   "nbconvert_exporter": "python",
   "pygments_lexer": "ipython3",
   "version": "3.7.3"
  }
 },
 "nbformat": 4,
 "nbformat_minor": 2
}
