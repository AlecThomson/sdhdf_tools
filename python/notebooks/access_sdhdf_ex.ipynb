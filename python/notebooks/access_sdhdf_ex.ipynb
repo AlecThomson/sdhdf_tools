{
 "cells": [
  {
   "cell_type": "code",
   "execution_count": null,
   "metadata": {},
   "outputs": [],
   "source": [
    "import h5py\n",
    "from astropy.table import QTable\n",
    "import numpy as np\n",
    "import argparse\n",
    "\n",
    "__version__ = '1.9'\n",
    "__author__ = 'Lawrence Toomey'\n",
    "\n",
    "\n",
    "def sdhdf_access_meta(f):\n",
    "    try:\n",
    "        # with the SDHDF file open read-only\n",
    "        with h5py.File(f, 'r') as h5:\n",
    "            # the metadata can be accessed directly from the HDF attributes...e.g.:\n",
    "            print('\\nPrimary header attribute keys: \\n%s' % h5['metadata/primary_header'].attrs.keys())\n",
    "            print('\\nBand params attribute keys: \\n%s' % h5['beam_0/metadata/band_params'].attrs.keys())\n",
    "\n",
    "            print('\\nPID attributes: \\n%s' % h5['metadata/primary_header'].attrs['PID'])\n",
    "            print('\\nPID data: \\n%s' % h5['metadata/primary_header']['PID'])\n",
    "\n",
    "            print('\\nN_CHANS attributes: \\n%s' % h5['beam_0/metadata/band_params'].attrs['N_CHANS'])\n",
    "            print('\\nN_CHANS data: \\n%s' % h5['beam_0/metadata/band_params']['N_CHANS'])\n",
    "\n",
    "            # ...or from an astropy.QTable object...e.g.:\n",
    "            tb = QTable.read(h5, path='metadata/primary_header')\n",
    "            op = QTable.read(h5, path='beam_0/metadata/band_params')\n",
    "\n",
    "            print('\\nPID attributes from astropy.QTable: \\n%s' % tb.meta['PID'])\n",
    "            print('\\nN_CHANS attributes from astropy.QTable: \\n%s' % op.meta['N_CHANS'])\n",
    "\n",
    "            print('\\nPID data from astropy.QTable: \\n%s' % tb['PID'])\n",
    "            print('\\nN_CHANS data from astropy.QTable: \\n%s' % op['N_CHANS'])\n",
    "\n",
    "            # the QTable object dtypes can be accessed with e.g.:\n",
    "            print('\\nPrimary header data types: \\n%s' % tb.info)\n",
    "            print('\\nBand params data types: \\n%s' % op.info)\n",
    "\n",
    "    except Exception as e:\n",
    "        print('ERROR: failed to read file %s' % f, e)\n",
    "\n",
    "\n",
    "def sdhdf_access_data(f):\n",
    "    try:\n",
    "        # with the SDHDF file open read-only\n",
    "        with h5py.File(f, 'r') as h5:\n",
    "            # list the HDF attributes\n",
    "            print('\\nData attribute keys: \\n%s' %\n",
    "                  h5['beam_0/band_SB7/astronomy_data/data'].attrs.keys())\n",
    "            print('\\nFrequency attribute keys: \\n%s' %\n",
    "                  h5['beam_0/band_SB7/astronomy_data/frequency'].attrs.keys())\n",
    "\n",
    "            # describe the dimensions of the data\n",
    "            print('\\nData dimension labels: \\n%s' %\n",
    "                  h5['beam_0/band_SB7/astronomy_data/data'].attrs['DIMENSION_LABELS'])\n",
    "\n",
    "            # describe the frequency axis unit\n",
    "            print('\\nFrequency unit: \\n%s' %\n",
    "                  h5['beam_0/band_SB7/astronomy_data/frequency'].attrs['UNIT'])\n",
    "\n",
    "            # load the data for a particular sub-band into a numpy array e.g.:\n",
    "            data = np.array(h5['beam_0/band_SB7/astronomy_data/data'])\n",
    "            print('\\nData array shape: \\n%s' % str(data.shape))\n",
    "\n",
    "            # load the frequency axis for sub-band 5 into an Numpy array e.g.:\n",
    "            freq_axis = np.array(h5['beam_0/band_SB7/astronomy_data/frequency'])\n",
    "            print('\\nFrequency array shape: \\n%s' % str(freq_axis.shape))\n",
    "    except Exception as e:\n",
    "        print('ERROR: failed to read file %s' % f, e)\n"
   ]
  },
  {
   "cell_type": "code",
   "execution_count": null,
   "metadata": {},
   "outputs": [],
   "source": [
    "# add the path to your file here\n",
    "filename = ''"
   ]
  },
  {
   "cell_type": "code",
   "execution_count": null,
   "metadata": {},
   "outputs": [],
   "source": [
    "sdhdf_access_meta(filename)"
   ]
  },
  {
   "cell_type": "code",
   "execution_count": null,
   "metadata": {},
   "outputs": [],
   "source": [
    "sdhdf_access_data(filename)"
   ]
  }
 ],
 "metadata": {
  "kernelspec": {
   "display_name": "Python 3",
   "language": "python",
   "name": "python3"
  },
  "language_info": {
   "codemirror_mode": {
    "name": "ipython",
    "version": 3
   },
   "file_extension": ".py",
   "mimetype": "text/x-python",
   "name": "python",
   "nbconvert_exporter": "python",
   "pygments_lexer": "ipython3",
   "version": "3.7.3"
  }
 },
 "nbformat": 4,
 "nbformat_minor": 2
}
