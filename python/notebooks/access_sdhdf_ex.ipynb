{
 "cells": [
  {
   "cell_type": "code",
   "execution_count": null,
   "metadata": {},
   "outputs": [],
   "source": [
    "import h5py\n",
    "import ast\n",
    "from astropy.table import QTable\n",
    "import numpy as np\n",
    "import argparse\n",
    "\n",
    "__version__ = '1.8'\n",
    "__author__ = 'Lawrence Toomey'\n",
    "\n",
    "\n",
    "def sdhdf_access_meta(f):\n",
    "    try:\n",
    "        # with the SDHDF file open read-only\n",
    "        with h5py.File(f, 'r') as h5:\n",
    "            # the meta-data can be accessed directly from the HDF attributes...e.g.:\n",
    "            print(h5['primary_header'].attrs.keys())\n",
    "            print(h5['obs_params'].attrs.keys())\n",
    "\n",
    "            print(h5['primary_header'].attrs['RA'])\n",
    "            print(h5['obs_params'].attrs['UTC'])\n",
    "\n",
    "            # ...or from an astropy.QTable object...e.g.:\n",
    "            tb = QTable.read(h5, path='/primary_header')\n",
    "            op = QTable.read(h5, path='/obs_params')\n",
    "\n",
    "            # convert from a string to python dict:\n",
    "            tb_dict = ast.literal_eval(tb.meta['RA'])\n",
    "            op_dict = ast.literal_eval(op.meta['UTC'])\n",
    "\n",
    "            # you can then access the individual attributes with e.g.:\n",
    "            print(tb_dict['DESCR'])\n",
    "            print(op_dict['DESCR'])\n",
    "\n",
    "            # the data can be accessed with e.g.:\n",
    "            print(tb['RA'])\n",
    "            print(op['UTC'])\n",
    "\n",
    "            # the QTable object dtypes can be accessed with e.g.:\n",
    "            print(tb.info)\n",
    "            print(op.info)\n",
    "\n",
    "    except Exception as e:\n",
    "        print('ERROR: failed to read file %s' % f, e)\n",
    "\n",
    "\n",
    "def sdhdf_access_data(f):\n",
    "    try:\n",
    "        # with the SDHDF file open read-only\n",
    "        with h5py.File(f, 'r') as h5:\n",
    "            # list the HDF attributes\n",
    "            print(h5['SB05/data'].attrs.keys())\n",
    "            print(h5['SB05/frequency'].attrs.keys())\n",
    "\n",
    "            # describe the dimensions of the data\n",
    "            print(h5['SB05/data'].attrs['DIMENSION_LABELS'])\n",
    "\n",
    "            # describe the frequency axis unit\n",
    "            print(h5['SB05/frequency'].attrs['UNIT'])\n",
    "\n",
    "            # load the data for sub-band 5 into an Numpy array e.g.:\n",
    "            data = np.array(h5['SB05/data'])\n",
    "            print(data.shape)\n",
    "\n",
    "            # load the frequency axis for sub-band 5 into an Numpy array e.g.:\n",
    "            freq_axis = np.array(h5['SB05/frequency'])\n",
    "            print(freq_axis.shape)\n",
    "    except Exception as e:\n",
    "        print('ERROR: failed to read file %s' % f, e)\n"
   ]
  },
  {
   "cell_type": "code",
   "execution_count": null,
   "metadata": {},
   "outputs": [],
   "source": [
    "filename = '../../test_data/uwl_191208_055418.hdf'"
   ]
  },
  {
   "cell_type": "code",
   "execution_count": null,
   "metadata": {},
   "outputs": [],
   "source": [
    "sdhdf_access_meta(filename)"
   ]
  },
  {
   "cell_type": "code",
   "execution_count": null,
   "metadata": {},
   "outputs": [],
   "source": [
    "sdhdf_access_data(filename)"
   ]
  },
  {
   "cell_type": "code",
   "execution_count": null,
   "metadata": {},
   "outputs": [],
   "source": []
  }
 ],
 "metadata": {
  "kernelspec": {
   "display_name": "Python 3",
   "language": "python",
   "name": "python3"
  },
  "language_info": {
   "codemirror_mode": {
    "name": "ipython",
    "version": 3
   },
   "file_extension": ".py",
   "mimetype": "text/x-python",
   "name": "python",
   "nbconvert_exporter": "python",
   "pygments_lexer": "ipython3",
   "version": "3.7.3"
  }
 },
 "nbformat": 4,
 "nbformat_minor": 2
}
