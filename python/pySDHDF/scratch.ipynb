{
 "cells": [
  {
   "cell_type": "code",
   "execution_count": 4,
   "metadata": {},
   "outputs": [],
   "source": [
    "from dataclasses import dataclass\n",
    "from typing import List, Optional, Tuple\n",
    "from pathlib import Path\n",
    "from astropy.table import Table\n",
    "\n",
    "import h5py\n",
    "from xarray import DataArray, Dataset\n",
    "import numpy as np\n",
    "from tqdm.auto import tqdm\n"
   ]
  },
  {
   "cell_type": "code",
   "execution_count": 240,
   "metadata": {},
   "outputs": [],
   "source": [
    "@dataclass\n",
    "class SubBand:\n",
    "    label: str\n",
    "    filename: Path\n",
    "    beam_label: str\n",
    "    in_memory: bool = False\n",
    "    # data: DataArray\n",
    "    # flag: DataArray\n",
    "    # metadata: Dataset\n",
    "    def __post_init__(self):\n",
    "        with h5py.File(self.filename, \"r\") as h5:\n",
    "            sb_data = f\"{self.beam_label}/{self.label}/astronomy_data/data\"\n",
    "            sb_freq = f\"{self.beam_label}/{self.label}/astronomy_data/frequency\"\n",
    "            sb_para = f\"{self.beam_label}/{self.label}/metadata/obs_params\"\n",
    "            has_flags = (\n",
    "                \"flag\" in h5[f\"{self.beam_label}/{self.label}/astronomy_data\"].keys()\n",
    "            )\n",
    "            data = h5[sb_data]\n",
    "            if has_flags:\n",
    "                flag = h5[f\"{self.beam_label}/{self.label}/astronomy_data/flag\"]\n",
    "                # Ensure flag has same shape as data\n",
    "                flag_reshape = flag[:].copy()\n",
    "                for i, s in enumerate(data.shape):\n",
    "                    if i > len(flag_reshape.shape) - 1:\n",
    "                        flag_reshape = np.expand_dims(flag_reshape, axis=-1)\n",
    "                    else:\n",
    "                        if flag_reshape.shape[i] == s:\n",
    "                            continue\n",
    "                        else:\n",
    "                            flag_reshape = np.expand_dims(flag_reshape, axis=i)\n",
    "                flag = flag_reshape\n",
    "            else:\n",
    "                flag = np.zeros_like(data)\n",
    "            freq = h5[sb_freq]\n",
    "            meta = h5[sb_para][:]\n",
    "            meta_tab = Table(meta)\n",
    "            if self.in_memory:\n",
    "                data = np.array(data)\n",
    "                freq = np.array(freq)\n",
    "                flag = np.array(flag)\n",
    "            names = meta.dtype.names\n",
    "            coords = {name: (\"time\", meta[name]) for name in names}\n",
    "            coords[\"frequency\"] = freq\n",
    "            dims = h5[sb_data].attrs[\"DIMENSION_LABELS\"]\n",
    "\n",
    "            # Need to isel beam 0 here - it will always be dimension 0\n",
    "            data_xr = DataArray(\n",
    "                data,\n",
    "                dims=dims,\n",
    "                coords=coords,\n",
    "                name=f\"{self.label}_data\",\n",
    "            ).isel(beam=0)\n",
    "            flag_xr = DataArray(\n",
    "                flag,\n",
    "                dims=dims,\n",
    "                coords=coords,\n",
    "                name=f\"{self.label}_flag\",\n",
    "            ).isel(beam=0)\n",
    "\n",
    "            self.data = data_xr\n",
    "            self.flag = flag_xr\n",
    "            self.metadata = meta_tab.to_pandas()\n",
    "\n",
    "@dataclass\n",
    "class Beam:\n",
    "    label: str\n",
    "    filename: Path\n",
    "    in_memory: bool = False\n",
    "\n",
    "    def __post_init__(self):\n",
    "        with h5py.File(self.filename, \"r\") as f:\n",
    "            sb_avail = Table.read(f, path=self.label + \"/metadata/band_params\")\n",
    "            self.subbands = [\n",
    "                SubBand(\n",
    "                    label=sb, \n",
    "                    filename=self.filename, \n",
    "                    beam_label=self.label,\n",
    "                    in_memory=self.in_memory,\n",
    "                ) for sb in sb_avail[\"LABEL\"]\n",
    "            ]\n",
    "            for sb in self.subbands:\n",
    "                self.__dict__[sb.label] = sb\n",
    "\n",
    "\n",
    "@dataclass\n",
    "class MetaData:\n",
    "\n",
    "    filename: Path\n",
    "\n",
    "    def __post_init__(self):\n",
    "        with h5py.File(self.filename, \"r\") as f:\n",
    "            meta = f[\"metadata\"]\n",
    "            self.beam_params = pd.DataFrame(np.array(meta[\"beam_params\"]))\n",
    "            self.history = pd.DataFrame(np.array(meta[\"history\"]))\n",
    "            self.primary_header = Table(np.array(meta[\"primary_header\"]))\n",
    "\n",
    "@dataclass\n",
    "class SDHDF:\n",
    "\n",
    "    filename: Path\n",
    "    in_memory: bool = False\n",
    "\n",
    "    def __post_init__(self):\n",
    "        self.metadata = MetaData(self.filename)\n",
    "        with h5py.File(self.filename, \"r\") as f:\n",
    "            keys = list(f.keys())\n",
    "            self.beams = [\n",
    "                Beam(\n",
    "                    label=key, \n",
    "                    filename=self.filename,\n",
    "                    in_memory=self.in_memory,\n",
    "                ) for key in keys if \"beam_\" in key\n",
    "            ]\n",
    "            for beam in self.beams:\n",
    "                self.__dict__[beam.label] = beam\n"
   ]
  },
  {
   "cell_type": "code",
   "execution_count": 241,
   "metadata": {},
   "outputs": [],
   "source": [
    "fname = Path(\"~/data/parkes/uwl_200406_121917.extract.hdf\").expanduser()\n",
    "data = SDHDF(fname)"
   ]
  },
  {
   "cell_type": "code",
   "execution_count": 242,
   "metadata": {},
   "outputs": [
    {
     "data": {
      "text/html": [
       "<div><i>Table length=1</i>\n",
       "<table id=\"table7319269488\" class=\"table-striped table-bordered table-condensed\">\n",
       "<thead><tr><th>DATE</th><th>HDR_DEFN</th><th>HDR_DEFN_VERSION</th><th>FILE_FORMAT</th><th>FILE_FORMAT_VERSION</th><th>SCHED_BLOCK_ID</th><th>CAL_MODE</th><th>INSTRUMENT</th><th>OBSERVER</th><th>PID</th><th>RECEIVER</th><th>TELESCOPE</th><th>UTC_START</th><th>N_BEAMS</th></tr></thead>\n",
       "<thead><tr><th>bytes19</th><th>bytes5</th><th>bytes3</th><th>bytes3</th><th>bytes3</th><th>int64</th><th>bytes3</th><th>bytes6</th><th>bytes6</th><th>bytes5</th><th>bytes3</th><th>bytes6</th><th>bytes19</th><th>int64</th></tr></thead>\n",
       "<tr><td>2020-04-07-10:47:10</td><td>SDHDF</td><td>1.9</td><td>HDF</td><td>5.0</td><td>10654</td><td>OFF</td><td>Medusa</td><td>and460</td><td>P1017</td><td>UWL</td><td>Parkes</td><td>2020-04-06-12:19:17</td><td>1</td></tr>\n",
       "</table></div>"
      ],
      "text/plain": [
       "<Table length=1>\n",
       "        DATE        HDR_DEFN HDR_DEFN_VERSION ...      UTC_START      N_BEAMS\n",
       "      bytes19        bytes5       bytes3      ...       bytes19        int64 \n",
       "------------------- -------- ---------------- ... ------------------- -------\n",
       "2020-04-07-10:47:10    SDHDF              1.9 ... 2020-04-06-12:19:17       1"
      ]
     },
     "execution_count": 242,
     "metadata": {},
     "output_type": "execute_result"
    }
   ],
   "source": [
    "data.metadata.primary_header"
   ]
  },
  {
   "cell_type": "code",
   "execution_count": 206,
   "metadata": {},
   "outputs": [],
   "source": [
    "import pandas as pd"
   ]
  },
  {
   "cell_type": "code",
   "execution_count": 208,
   "metadata": {},
   "outputs": [
    {
     "name": "stdout",
     "output_type": "stream",
     "text": [
      "                     DATE  HDR_DEFN HDR_DEFN_VERSION FILE_FORMAT  \\\n",
      "0  b'2020-04-07-10:47:10'  b'SDHDF'           b'1.9'      b'HDF'   \n",
      "\n",
      "  FILE_FORMAT_VERSION  SCHED_BLOCK_ID CAL_MODE INSTRUMENT   OBSERVER  \\\n",
      "0              b'5.0'           10654   b'OFF'  b'Medusa'  b'and460'   \n",
      "\n",
      "        PID RECEIVER  TELESCOPE               UTC_START  N_BEAMS  \n",
      "0  b'P1017'   b'UWL'  b'Parkes'  b'2020-04-06-12:19:17'        1  \n"
     ]
    }
   ],
   "source": [
    "with h5py.File(fname, \"r\") as f:\n",
    "    print(pd.DataFrame(f[\"metadata\"][\"primary_header\"][:]))"
   ]
  },
  {
   "cell_type": "code",
   "execution_count": 193,
   "metadata": {},
   "outputs": [
    {
     "data": {
      "text/plain": [
       "<matplotlib.collections.QuadMesh at 0x1b1a9f160>"
      ]
     },
     "execution_count": 193,
     "metadata": {},
     "output_type": "execute_result"
    },
    {
     "data": {
      "image/png": "[encoded data removed]",
      "text/plain": [
       "<Figure size 432x288 with 2 Axes>"
      ]
     },
     "metadata": {
      "needs_background": "light"
     },
     "output_type": "display_data"
    }
   ],
   "source": [
    "data.beam_0.subbands[0].data.isel(polarization=0).plot(y=\"RA_DEG\")"
   ]
  },
  {
   "cell_type": "code",
   "execution_count": 128,
   "metadata": {},
   "outputs": [],
   "source": [
    "import matplotlib.pyplot as plt"
   ]
  },
  {
   "cell_type": "code",
   "execution_count": 136,
   "metadata": {},
   "outputs": [
    {
     "data": {
      "text/plain": [
       "SubBand(label='band_SB0', filename=PosixPath('/Users/tho822/data/parkes/uwl_200406_121917.extract.hdf'), beam_label='beam_0', in_memory=False)"
      ]
     },
     "execution_count": 136,
     "metadata": {},
     "output_type": "execute_result"
    }
   ],
   "source": [
    "data.beam_0.band_SB0"
   ]
  },
  {
   "cell_type": "code",
   "execution_count": 182,
   "metadata": {},
   "outputs": [
    {
     "data": {
      "text/plain": [
       "<matplotlib.collections.QuadMesh at 0x1b10c84c0>"
      ]
     },
     "execution_count": 182,
     "metadata": {},
     "output_type": "execute_result"
    },
    {
     "data": {
      "image/png": "[encoded data removed]",
      "text/plain": [
       "<Figure size 432x288 with 2 Axes>"
      ]
     },
     "metadata": {
      "needs_background": "light"
     },
     "output_type": "display_data"
    }
   ],
   "source": [
    "data.beam_0.band_SB2.data.isel(polarization=0, bin=0).plot(norm=plt.cm.colors.LogNorm())"
   ]
  },
  {
   "cell_type": "code",
   "execution_count": 12,
   "metadata": {},
   "outputs": [
    {
     "ename": "AttributeError",
     "evalue": "'Beams' object has no attribute 'beam_0'",
     "output_type": "error",
     "traceback": [
      "\u001b[0;31m---------------------------------------------------------------------------\u001b[0m",
      "\u001b[0;31mAttributeError\u001b[0m                            Traceback (most recent call last)",
      "\u001b[1;32m/Users/tho822/dev/sdhdf_tools/python/src/scratch.ipynb Cell 5\u001b[0m in \u001b[0;36m<cell line: 1>\u001b[0;34m()\u001b[0m\n\u001b[0;32m----> <a href='vscode-notebook-cell:/Users/tho822/dev/sdhdf_tools/python/src/scratch.ipynb#W5sZmlsZQ%3D%3D?line=0'>1</a>\u001b[0m data\u001b[39m.\u001b[39;49mbeams\u001b[39m.\u001b[39;49mbeam_0\n",
      "\u001b[0;31mAttributeError\u001b[0m: 'Beams' object has no attribute 'beam_0'"
     ]
    }
   ],
   "source": [
    "data.beams.beam_0"
   ]
  },
  {
   "cell_type": "code",
   "execution_count": null,
   "metadata": {},
   "outputs": [],
   "source": []
  }
 ],
 "metadata": {
  "kernelspec": {
   "display_name": "base",
   "language": "python",
   "name": "python3"
  },
  "language_info": {
   "codemirror_mode": {
    "name": "ipython",
    "version": 3
   },
   "file_extension": ".py",
   "mimetype": "text/x-python",
   "name": "python",
   "nbconvert_exporter": "python",
   "pygments_lexer": "ipython3",
   "version": "3.9.13"
  },
  "orig_nbformat": 4,
  "vscode": {
   "interpreter": {
    "hash": "20d809ec86e111c3d2864aa65d3db8e7fa384fc1384beda5cdcca85df830bf4c"
   }
  }
 },
 "nbformat": 4,
 "nbformat_minor": 2
}
